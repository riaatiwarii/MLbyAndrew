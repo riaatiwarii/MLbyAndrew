{
 "cells": [
  {
   "cell_type": "markdown",
   "id": "ca0174bb-508e-42a3-ad6c-d6eb9dcaf8a8",
   "metadata": {},
   "source": [
    "Goals:\n",
    "automate the process of optimizing w and b using gradient descent"
   ]
  },
  {
   "cell_type": "code",
   "execution_count": 3,
   "id": "827fb7ca-1aa0-4f8d-acb7-42a7ac76826a",
   "metadata": {},
   "outputs": [
    {
     "ename": "OSError",
     "evalue": "'./deeplearning.mpstyle' is not a valid package style, path of style file, URL of style file, or library style name (library styles are listed in `style.available`)",
     "output_type": "error",
     "traceback": [
      "\u001b[31m---------------------------------------------------------------------------\u001b[39m",
      "\u001b[31mFileNotFoundError\u001b[39m                         Traceback (most recent call last)",
      "\u001b[36mFile \u001b[39m\u001b[32m~\\AppData\\Local\\Programs\\Python\\Python313\\Lib\\site-packages\\matplotlib\\style\\core.py:129\u001b[39m, in \u001b[36muse\u001b[39m\u001b[34m(style)\u001b[39m\n\u001b[32m    128\u001b[39m \u001b[38;5;28;01mtry\u001b[39;00m:\n\u001b[32m--> \u001b[39m\u001b[32m129\u001b[39m     style = \u001b[43m_rc_params_in_file\u001b[49m\u001b[43m(\u001b[49m\u001b[43mstyle\u001b[49m\u001b[43m)\u001b[49m\n\u001b[32m    130\u001b[39m \u001b[38;5;28;01mexcept\u001b[39;00m \u001b[38;5;167;01mOSError\u001b[39;00m \u001b[38;5;28;01mas\u001b[39;00m err:\n",
      "\u001b[36mFile \u001b[39m\u001b[32m~\\AppData\\Local\\Programs\\Python\\Python313\\Lib\\site-packages\\matplotlib\\__init__.py:903\u001b[39m, in \u001b[36m_rc_params_in_file\u001b[39m\u001b[34m(fname, transform, fail_on_error)\u001b[39m\n\u001b[32m    902\u001b[39m rc_temp = {}\n\u001b[32m--> \u001b[39m\u001b[32m903\u001b[39m \u001b[43m\u001b[49m\u001b[38;5;28;43;01mwith\u001b[39;49;00m\u001b[43m \u001b[49m\u001b[43m_open_file_or_url\u001b[49m\u001b[43m(\u001b[49m\u001b[43mfname\u001b[49m\u001b[43m)\u001b[49m\u001b[43m \u001b[49m\u001b[38;5;28;43;01mas\u001b[39;49;00m\u001b[43m \u001b[49m\u001b[43mfd\u001b[49m\u001b[43m:\u001b[49m\n\u001b[32m    904\u001b[39m \u001b[43m    \u001b[49m\u001b[38;5;28;43;01mtry\u001b[39;49;00m\u001b[43m:\u001b[49m\n",
      "\u001b[36mFile \u001b[39m\u001b[32m~\\AppData\\Local\\Programs\\Python\\Python313\\Lib\\contextlib.py:141\u001b[39m, in \u001b[36m_GeneratorContextManager.__enter__\u001b[39m\u001b[34m(self)\u001b[39m\n\u001b[32m    140\u001b[39m \u001b[38;5;28;01mtry\u001b[39;00m:\n\u001b[32m--> \u001b[39m\u001b[32m141\u001b[39m     \u001b[38;5;28;01mreturn\u001b[39;00m \u001b[38;5;28;43mnext\u001b[39;49m\u001b[43m(\u001b[49m\u001b[38;5;28;43mself\u001b[39;49m\u001b[43m.\u001b[49m\u001b[43mgen\u001b[49m\u001b[43m)\u001b[49m\n\u001b[32m    142\u001b[39m \u001b[38;5;28;01mexcept\u001b[39;00m \u001b[38;5;167;01mStopIteration\u001b[39;00m:\n",
      "\u001b[36mFile \u001b[39m\u001b[32m~\\AppData\\Local\\Programs\\Python\\Python313\\Lib\\site-packages\\matplotlib\\__init__.py:880\u001b[39m, in \u001b[36m_open_file_or_url\u001b[39m\u001b[34m(fname)\u001b[39m\n\u001b[32m    879\u001b[39m fname = os.path.expanduser(fname)\n\u001b[32m--> \u001b[39m\u001b[32m880\u001b[39m \u001b[38;5;28;01mwith\u001b[39;00m \u001b[38;5;28;43mopen\u001b[39;49m\u001b[43m(\u001b[49m\u001b[43mfname\u001b[49m\u001b[43m,\u001b[49m\u001b[43m \u001b[49m\u001b[43mencoding\u001b[49m\u001b[43m=\u001b[49m\u001b[33;43m'\u001b[39;49m\u001b[33;43mutf-8\u001b[39;49m\u001b[33;43m'\u001b[39;49m\u001b[43m)\u001b[49m \u001b[38;5;28;01mas\u001b[39;00m f:\n\u001b[32m    881\u001b[39m     \u001b[38;5;28;01myield\u001b[39;00m f\n",
      "\u001b[31mFileNotFoundError\u001b[39m: [Errno 2] No such file or directory: './deeplearning.mpstyle'",
      "\nThe above exception was the direct cause of the following exception:\n",
      "\u001b[31mOSError\u001b[39m                                   Traceback (most recent call last)",
      "\u001b[36mCell\u001b[39m\u001b[36m \u001b[39m\u001b[32mIn[3]\u001b[39m\u001b[32m, line 4\u001b[39m\n\u001b[32m      2\u001b[39m \u001b[38;5;28;01mimport\u001b[39;00m\u001b[38;5;250m \u001b[39m\u001b[34;01mnumpy\u001b[39;00m\u001b[38;5;250m \u001b[39m\u001b[38;5;28;01mas\u001b[39;00m\u001b[38;5;250m \u001b[39m\u001b[34;01mnp\u001b[39;00m\n\u001b[32m      3\u001b[39m \u001b[38;5;28;01mimport\u001b[39;00m\u001b[38;5;250m \u001b[39m\u001b[34;01mmatplotlib\u001b[39;00m\u001b[34;01m.\u001b[39;00m\u001b[34;01mpyplot\u001b[39;00m\u001b[38;5;250m \u001b[39m\u001b[38;5;28;01mas\u001b[39;00m\u001b[38;5;250m \u001b[39m\u001b[34;01mplt\u001b[39;00m\n\u001b[32m----> \u001b[39m\u001b[32m4\u001b[39m \u001b[43mplt\u001b[49m\u001b[43m.\u001b[49m\u001b[43mstyle\u001b[49m\u001b[43m.\u001b[49m\u001b[43muse\u001b[49m\u001b[43m(\u001b[49m\u001b[33;43m'\u001b[39;49m\u001b[33;43m./deeplearning.mpstyle\u001b[39;49m\u001b[33;43m'\u001b[39;49m\u001b[43m)\u001b[49m\n\u001b[32m      5\u001b[39m \u001b[38;5;28;01mfrom\u001b[39;00m\u001b[38;5;250m \u001b[39m\u001b[34;01mlab_utils_uni\u001b[39;00m\u001b[38;5;250m \u001b[39m\u001b[38;5;28;01mimport\u001b[39;00m plt_house_x,plt_contour_wgrad,plt_divergence,plt_gradients\n",
      "\u001b[36mFile \u001b[39m\u001b[32m~\\AppData\\Local\\Programs\\Python\\Python313\\Lib\\site-packages\\matplotlib\\style\\core.py:131\u001b[39m, in \u001b[36muse\u001b[39m\u001b[34m(style)\u001b[39m\n\u001b[32m    129\u001b[39m         style = _rc_params_in_file(style)\n\u001b[32m    130\u001b[39m     \u001b[38;5;28;01mexcept\u001b[39;00m \u001b[38;5;167;01mOSError\u001b[39;00m \u001b[38;5;28;01mas\u001b[39;00m err:\n\u001b[32m--> \u001b[39m\u001b[32m131\u001b[39m         \u001b[38;5;28;01mraise\u001b[39;00m \u001b[38;5;167;01mOSError\u001b[39;00m(\n\u001b[32m    132\u001b[39m             \u001b[33mf\u001b[39m\u001b[33m\"\u001b[39m\u001b[38;5;132;01m{\u001b[39;00mstyle\u001b[38;5;132;01m!r}\u001b[39;00m\u001b[33m is not a valid package style, path of style \u001b[39m\u001b[33m\"\u001b[39m\n\u001b[32m    133\u001b[39m             \u001b[33mf\u001b[39m\u001b[33m\"\u001b[39m\u001b[33mfile, URL of style file, or library style name (library \u001b[39m\u001b[33m\"\u001b[39m\n\u001b[32m    134\u001b[39m             \u001b[33mf\u001b[39m\u001b[33m\"\u001b[39m\u001b[33mstyles are listed in `style.available`)\u001b[39m\u001b[33m\"\u001b[39m) \u001b[38;5;28;01mfrom\u001b[39;00m\u001b[38;5;250m \u001b[39m\u001b[34;01merr\u001b[39;00m\n\u001b[32m    135\u001b[39m filtered = {}\n\u001b[32m    136\u001b[39m \u001b[38;5;28;01mfor\u001b[39;00m k \u001b[38;5;129;01min\u001b[39;00m style:  \u001b[38;5;66;03m# don't trigger RcParams.__getitem__('backend')\u001b[39;00m\n",
      "\u001b[31mOSError\u001b[39m: './deeplearning.mpstyle' is not a valid package style, path of style file, URL of style file, or library style name (library styles are listed in `style.available`)"
     ]
    }
   ],
   "source": [
    "import math, copy\n",
    "import numpy as np\n",
    "import matplotlib.pyplot as plt\n",
    "plt.style.use('./deeplearning.mpstyle')\n",
    "from lab_utils_uni import plt_house_x,plt_contour_wgrad,plt_divergence,plt_gradients"
   ]
  },
  {
   "cell_type": "markdown",
   "id": "27a7b745-6895-42d9-a751-309b5d6cd70d",
   "metadata": {},
   "source": [
    "Problem Statement:\n",
    "we will use same data as before and keep it small for better understanding"
   ]
  },
  {
   "cell_type": "code",
   "execution_count": 4,
   "id": "00ec34c0-6842-400e-9c2e-ab264974592d",
   "metadata": {},
   "outputs": [],
   "source": [
    "x_train=np.array([1.2,2.0])\n",
    "y_train=np.array([300.0,500.0])\n"
   ]
  },
  {
   "cell_type": "markdown",
   "id": "15035026-af90-47f4-a2b4-615d24d1be61",
   "metadata": {},
   "source": [
    "Compute cost:\n"
   ]
  },
  {
   "cell_type": "code",
   "execution_count": 5,
   "id": "6b3e825f-7fe1-4c08-bd0b-6a589083d2a6",
   "metadata": {},
   "outputs": [],
   "source": [
    "def compute_cost(x,y,w,b):\n",
    "    m=len(x)\n",
    "    cost=0\n",
    "    for i in range(m):\n",
    "        f_wb=w*x[i]+b\n",
    "        cost=cost+(f_wb -y[i])**2\n",
    "    total_cost=cost/(2*m)\n",
    "    return total_cost"
   ]
  },
  {
   "cell_type": "markdown",
   "id": "ffbea802-ef0d-4563-b807-7b548fd633f5",
   "metadata": {},
   "source": [
    "compute gradient_descent:\n"
   ]
  },
  {
   "cell_type": "code",
   "execution_count": 6,
   "id": "9ee82f72-1a9b-4b75-a384-f30313338f18",
   "metadata": {},
   "outputs": [],
   "source": [
    "def compute_gradient(x,y,w,b):\n",
    "    m=len(x)\n",
    "    dj_dw=0\n",
    "    dj_db=0\n",
    "    for i in range(m):\n",
    "        f_wb=w*x[i]+b\n",
    "        dj_dw_i=(f_wb -y[i])*x[i]\n",
    "        dj_db_i=f_wb-y[i]\n",
    "        dj_dw+=dj_dw_i\n",
    "        dj_db+=dj_db_i\n",
    "    dj_dw/=m\n",
    "    dj_db/=m\n",
    "    \n",
    "    return dj_dw,dj_db    "
   ]
  },
  {
   "cell_type": "markdown",
   "id": "5ea96df7-b803-41a9-96f7-d85685e5e86f",
   "metadata": {},
   "source": [
    "let's use our compute_graddient to find and plot some partial derivatives of our cost function relative to one of the parameters,w0"
   ]
  },
  {
   "cell_type": "code",
   "execution_count": 7,
   "id": "4b18c6a0-a311-4329-b6ad-a5956b19f5b1",
   "metadata": {},
   "outputs": [
    {
     "ename": "NameError",
     "evalue": "name 'plt_gradients' is not defined",
     "output_type": "error",
     "traceback": [
      "\u001b[31m---------------------------------------------------------------------------\u001b[39m",
      "\u001b[31mNameError\u001b[39m                                 Traceback (most recent call last)",
      "\u001b[36mCell\u001b[39m\u001b[36m \u001b[39m\u001b[32mIn[7]\u001b[39m\u001b[32m, line 1\u001b[39m\n\u001b[32m----> \u001b[39m\u001b[32m1\u001b[39m \u001b[43mplt_gradients\u001b[49m(x_train,y_train,compute_cost,compute_gradient)\n",
      "\u001b[31mNameError\u001b[39m: name 'plt_gradients' is not defined"
     ]
    }
   ],
   "source": [
    "plt_gradients(x_train,y_train,compute_cost,compute_gradient)"
   ]
  },
  {
   "cell_type": "markdown",
   "id": "9f12c97a-f404-4012-b749-a081fee5f053",
   "metadata": {},
   "source": [
    "now gradient descent can be computed"
   ]
  },
  {
   "cell_type": "code",
   "execution_count": 8,
   "id": "d5f79f8d-a62a-4ffc-97eb-3d8a62e69b7e",
   "metadata": {},
   "outputs": [],
   "source": [
    "def gradient_descent(x, y, w_in, b_in, alpha, num_iters, cost_function, gradient_function): \n",
    "    J_history=[]\n",
    "    p_history=[]\n",
    "    w=w_in\n",
    "    b=b_in\n",
    "    for i in range(num_iters):\n",
    "        dj_dw,dj_db=gradient_function(x,y,w,b)\n",
    "        b=b-alpha*dj_db\n",
    "        w=w-alpha*dj_dw\n",
    "\n",
    "        if i<1000000:\n",
    "            J_history.append(cost_function(x,y,w,b))\n",
    "            p_history.append([w,b])\n",
    "        if i%math.ceil(num_iters/10)==0:\n",
    "            print(f\"Iteration{i:4}:Cost{J_history[-1]:0.2e}\",\n",
    "                  f\"dj_dw: {dj_dw: 0.3e}, dj_db: {dj_db: 0.3e}  \",\n",
    "                  f\"w: {w: 0.3e}, b:{b: 0.5e}\")\n",
    "    return w,b,J_history,p_history"
   ]
  },
  {
   "cell_type": "code",
   "execution_count": 9,
   "id": "5f846f4c-3dc6-4c5c-bb8c-618e0d9cc25b",
   "metadata": {},
   "outputs": [
    {
     "name": "stdout",
     "output_type": "stream",
     "text": [
      "Iteration   0:Cost7.89e+04 dj_dw: -6.800e+02, dj_db: -4.000e+02   w:  6.800e+00, b: 4.00000e+00\n",
      "Iteration1000:Cost1.50e+02 dj_dw: -1.854e+00, dj_db:  3.101e+00   w:  2.074e+02, b: 7.12139e+01\n",
      "Iteration2000:Cost6.27e+01 dj_dw: -1.199e+00, dj_db:  2.006e+00   w:  2.225e+02, b: 4.60807e+01\n",
      "Iteration3000:Cost2.63e+01 dj_dw: -7.761e-01, dj_db:  1.298e+00   w:  2.322e+02, b: 2.98177e+01\n",
      "Iteration4000:Cost1.10e+01 dj_dw: -5.022e-01, dj_db:  8.400e-01   w:  2.385e+02, b: 1.92942e+01\n",
      "Iteration5000:Cost4.60e+00 dj_dw: -3.249e-01, dj_db:  5.436e-01   w:  2.425e+02, b: 1.24848e+01\n",
      "Iteration6000:Cost1.93e+00 dj_dw: -2.103e-01, dj_db:  3.517e-01   w:  2.452e+02, b: 8.07861e+00\n",
      "Iteration7000:Cost8.07e-01 dj_dw: -1.361e-01, dj_db:  2.276e-01   w:  2.469e+02, b: 5.22746e+00\n",
      "Iteration8000:Cost3.38e-01 dj_dw: -8.804e-02, dj_db:  1.473e-01   w:  2.480e+02, b: 3.38256e+00\n",
      "Iteration9000:Cost1.41e-01 dj_dw: -5.697e-02, dj_db:  9.530e-02   w:  2.487e+02, b: 2.18877e+00\n",
      "(w,b) found by gradient descent: (249.1530,  1.4169)\n"
     ]
    }
   ],
   "source": [
    "w_init = 0\n",
    "b_init = 0\n",
    "iterations = 10000\n",
    "tmp_alpha = 1.0e-2\n",
    "w_final, b_final, J_hist, p_hist = gradient_descent(x_train ,y_train, w_init, b_init, tmp_alpha, \n",
    "                                                    iterations, compute_cost, compute_gradient)\n",
    "print(f\"(w,b) found by gradient descent: ({w_final:8.4f},{b_final:8.4f})\")"
   ]
  },
  {
   "cell_type": "markdown",
   "id": "c12c88fe-8867-4f6a-912f-360557449d42",
   "metadata": {},
   "source": [
    "cost versus iterations of gradient descent"
   ]
  },
  {
   "cell_type": "code",
   "execution_count": 10,
   "id": "520c077b-3a29-4a81-8316-42b2bf4a94f6",
   "metadata": {},
   "outputs": [
    {
     "data": {
      "image/png": "[encoded data removed]",
      "text/plain": [
       "<Figure size 1200x400 with 2 Axes>"
      ]
     },
     "metadata": {},
     "output_type": "display_data"
    }
   ],
   "source": [
    "fig, (ax1, ax2) = plt.subplots(1, 2, constrained_layout=True, figsize=(12,4))\n",
    "ax1.plot(J_hist[:100])\n",
    "ax2.plot(1000 + np.arange(len(J_hist[1000:])), J_hist[1000:])\n",
    "ax1.set_title(\"Cost vs. iteration(start)\");  ax2.set_title(\"Cost vs. iteration (end)\")\n",
    "ax1.set_ylabel('Cost')            ;  ax2.set_ylabel('Cost') \n",
    "ax1.set_xlabel('iteration step')  ;  ax2.set_xlabel('iteration step') \n",
    "plt.show()"
   ]
  },
  {
   "cell_type": "markdown",
   "id": "29105152-d87b-45d6-8694-bb01e8ce746c",
   "metadata": {},
   "source": [
    "Predictions:"
   ]
  },
  {
   "cell_type": "code",
   "execution_count": 11,
   "id": "97155294-6bc7-4ac2-a194-96b4cf618303",
   "metadata": {},
   "outputs": [
    {
     "name": "stdout",
     "output_type": "stream",
     "text": [
      "1000 sqft house prediction 250.6 Thousand dollars\n",
      "1200 sqft house prediction 300.4 Thousand dollars\n",
      "2000 sqft house prediction 499.7 Thousand dollars\n"
     ]
    }
   ],
   "source": [
    "print(f\"1000 sqft house prediction {w_final*1.0 + b_final:0.1f} Thousand dollars\")\n",
    "print(f\"1200 sqft house prediction {w_final*1.2 + b_final:0.1f} Thousand dollars\")\n",
    "print(f\"2000 sqft house prediction {w_final*2.0 + b_final:0.1f} Thousand dollars\")"
   ]
  },
  {
   "cell_type": "markdown",
   "id": "e2394f0c-5f5d-49ca-a478-d226c65e8f3e",
   "metadata": {},
   "source": [
    "plotiing\n"
   ]
  },
  {
   "cell_type": "code",
   "execution_count": 12,
   "id": "1a327045-fa60-4342-8f07-6ca700853e07",
   "metadata": {},
   "outputs": [
    {
     "ename": "NameError",
     "evalue": "name 'plt_contour_wgrad' is not defined",
     "output_type": "error",
     "traceback": [
      "\u001b[31m---------------------------------------------------------------------------\u001b[39m",
      "\u001b[31mNameError\u001b[39m                                 Traceback (most recent call last)",
      "\u001b[36mCell\u001b[39m\u001b[36m \u001b[39m\u001b[32mIn[12]\u001b[39m\u001b[32m, line 2\u001b[39m\n\u001b[32m      1\u001b[39m fig,ax=plt.subplots(\u001b[32m1\u001b[39m,\u001b[32m1\u001b[39m,figsize=(\u001b[32m12\u001b[39m,\u001b[32m6\u001b[39m))\n\u001b[32m----> \u001b[39m\u001b[32m2\u001b[39m \u001b[43mplt_contour_wgrad\u001b[49m(x_train,y_train,p_hist,ax)\n",
      "\u001b[31mNameError\u001b[39m: name 'plt_contour_wgrad' is not defined"
     ]
    },
    {
     "data": {
      "image/png": "[encoded data removed]",
      "text/plain": [
       "<Figure size 1200x600 with 1 Axes>"
      ]
     },
     "metadata": {},
     "output_type": "display_data"
    }
   ],
   "source": [
    "fig,ax=plt.subplots(1,1,figsize=(12,6))\n",
    "plt_contour_wgrad(x_train,y_train,p_hist,ax)"
   ]
  },
  {
   "cell_type": "code",
   "execution_count": null,
   "id": "788501d4-9cfe-484d-8f97-6aa08cef291e",
   "metadata": {},
   "outputs": [],
   "source": [
    "fig, ax = plt.subplots(1,1, figsize=(12, 4))\n",
    "plt_contour_wgrad(x_train, y_train, p_hist, ax, w_range=[180, 220, 0.5], b_range=[80, 120, 0.5],\n",
    "            contours=[1,5,10,20],resolution=0.5)"
   ]
  },
  {
   "cell_type": "markdown",
   "id": "4b78432e-bc25-48aa-a37f-004d39087bb4",
   "metadata": {},
   "source": [
    "increasing learning rate"
   ]
  },
  {
   "cell_type": "code",
   "execution_count": null,
   "id": "65c89137-f6a7-49ac-9c0f-44db9b045d90",
   "metadata": {},
   "outputs": [],
   "source": [
    "w_init = 0\n",
    "b_init = 0\n",
    "iterations = 10\n",
    "tmp_alpha = 8.0e-1\n",
    "w_final, b_final, J_hist, p_hist = gradient_descent(x_train ,y_train, w_init, b_init, tmp_alpha, \n",
    "                                                    iterations, compute_cost, compute_gradient)"
   ]
  },
  {
   "cell_type": "code",
   "execution_count": 2,
   "id": "be853219-83d6-401c-9656-dd6a3ed991a9",
   "metadata": {},
   "outputs": [
    {
     "ename": "NameError",
     "evalue": "name 'plt_divergence' is not defined",
     "output_type": "error",
     "traceback": [
      "\u001b[31m---------------------------------------------------------------------------\u001b[39m",
      "\u001b[31mNameError\u001b[39m                                 Traceback (most recent call last)",
      "\u001b[36mCell\u001b[39m\u001b[36m \u001b[39m\u001b[32mIn[2]\u001b[39m\u001b[32m, line 1\u001b[39m\n\u001b[32m----> \u001b[39m\u001b[32m1\u001b[39m \u001b[43mplt_divergence\u001b[49m(p_hist, J_hist,x_train, y_train)\n\u001b[32m      2\u001b[39m plt.show()\n",
      "\u001b[31mNameError\u001b[39m: name 'plt_divergence' is not defined"
     ]
    }
   ],
   "source": [
    "plt_divergence(p_hist, J_hist,x_train, y_train)\n",
    "plt.show()"
   ]
  },
  {
   "cell_type": "code",
   "execution_count": null,
   "id": "fadaf5f2-f90d-40e9-b2e4-50bf11901541",
   "metadata": {},
   "outputs": [],
   "source": []
  }
 ],
 "metadata": {
  "kernelspec": {
   "display_name": "Python 3 (ipykernel)",
   "language": "python",
   "name": "python3"
  },
  "language_info": {
   "codemirror_mode": {
    "name": "ipython",
    "version": 3
   },
   "file_extension": ".py",
   "mimetype": "text/x-python",
   "name": "python",
   "nbconvert_exporter": "python",
   "pygments_lexer": "ipython3",
   "version": "3.13.4"
  }
 },
 "nbformat": 4,
 "nbformat_minor": 5
}
