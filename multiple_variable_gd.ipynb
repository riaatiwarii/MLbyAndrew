{
 "cells": [
  {
   "cell_type": "markdown",
   "id": "4acbab15-374a-46b3-a9c6-c391a4959eab",
   "metadata": {},
   "source": [
    "To extend our regression model to support multiple features "
   ]
  },
  {
   "cell_type": "code",
   "execution_count": 80,
   "id": "1399900f-d68f-4b1c-a510-ae9812783e56",
   "metadata": {},
   "outputs": [],
   "source": [
    "import copy,math\n",
    "import numpy as np \n",
    "import matplotlib.pyplot as plt\n",
    "plt.style.use('./deeplearning.mplstyle')\n",
    "np.set_printoptions(precision=2)"
   ]
  },
  {
   "cell_type": "markdown",
   "id": "049e9443-9f60-4f15-8ab9-1e00430d5161",
   "metadata": {},
   "source": [
    "problem statement :\n",
    "\n",
    "Size (sqft)\t Number of Bedrooms \tNumber of floors\tAge of Home\t      Price (1000s dollars)\n",
    "2104\t             5\t               1\t                 45\t                 460\n",
    "1416\t             3\t               2\t                 40\t                 232\n",
    "852\t                 2\t               1\t                 35\t                 178\n"
   ]
  },
  {
   "cell_type": "code",
   "execution_count": 81,
   "id": "9277def7-5134-4f86-b63d-bc90b1c3ad49",
   "metadata": {},
   "outputs": [],
   "source": [
    "x_train = np.array([[2104, 5, 1, 45], [1416, 3, 2, 40], [852, 2, 1, 35]])\n",
    "y_train = np.array([460, 232, 178])"
   ]
  },
  {
   "cell_type": "markdown",
   "id": "c1223fbd-09ad-4ef4-aeb7-1f3ee1034a48",
   "metadata": {},
   "source": [
    "to show the above x matrix "
   ]
  },
  {
   "cell_type": "code",
   "execution_count": 82,
   "id": "92164d5b-c85c-4751-b5e7-81c71070c6a8",
   "metadata": {},
   "outputs": [
    {
     "name": "stdout",
     "output_type": "stream",
     "text": [
      "x shape:(3, 4),x type:<class 'numpy.ndarray'>\n",
      "x_train\n",
      "y shape:(3,),y type:<class 'numpy.ndarray'>\n",
      "[460 232 178]\n"
     ]
    }
   ],
   "source": [
    "print(f\"x shape:{x_train.shape},x type:{type(x_train)}\")\n",
    "print('x_train')\n",
    "print(f\"y shape:{y_train.shape},y type:{type(y_train)}\")\n",
    "print(y_train)"
   ]
  },
  {
   "cell_type": "markdown",
   "id": "a30b26c3-b451-413b-bf66-6253eec92fea",
   "metadata": {},
   "source": [
    "now we will set some values for w and b\n"
   ]
  },
  {
   "cell_type": "code",
   "execution_count": 83,
   "id": "728e8129-553e-4c87-862b-f58931362f2d",
   "metadata": {},
   "outputs": [
    {
     "name": "stdout",
     "output_type": "stream",
     "text": [
      "w_init shape: (4,), b_init type: <class 'float'>\n"
     ]
    }
   ],
   "source": [
    "b_init = 785.1811367994083\n",
    "w_init = np.array([ 0.39133535, 18.75376741, -53.36032453, -26.42131618])\n",
    "print(f\"w_init shape: {w_init.shape}, b_init type: {type(b_init)}\")"
   ]
  },
  {
   "cell_type": "markdown",
   "id": "337473b0-ec20-406e-8c3e-1fe23d8b33b7",
   "metadata": {},
   "source": [
    "Single prediction using vectorization"
   ]
  },
  {
   "cell_type": "code",
   "execution_count": 84,
   "id": "c97f0a35-5a73-4092-ba1b-4e84c4342eeb",
   "metadata": {},
   "outputs": [],
   "source": [
    "def predict(x,w,b):\n",
    "    p=np.dot(x,w)+b\n",
    "    return p"
   ]
  },
  {
   "cell_type": "code",
   "execution_count": 85,
   "id": "7b400756-3d4c-4761-a3a7-75f950652465",
   "metadata": {},
   "outputs": [
    {
     "name": "stdout",
     "output_type": "stream",
     "text": [
      "459.99999761940825\n"
     ]
    }
   ],
   "source": [
    "x_vec=x_train[0,:]\n",
    "f_wb=predict(x_vec,w_init,b_init)\n",
    "print(f_wb)"
   ]
  },
  {
   "cell_type": "markdown",
   "id": "7c806905-1480-416f-8cce-c4aeab868afe",
   "metadata": {},
   "source": [
    "now compute the cost\n"
   ]
  },
  {
   "cell_type": "code",
   "execution_count": 86,
   "id": "742a2b3b-77e2-4a04-92a3-14cff174f310",
   "metadata": {},
   "outputs": [],
   "source": [
    "def compute_cost(x,y,w,b):\n",
    "    m = x.shape[0]\n",
    "    cost = 0.0\n",
    "    for i in range(m):                                \n",
    "        f_wb_i = np.dot(x[i], w) + b \n",
    "        cost = cost + (f_wb_i - y[i])**2       \n",
    "    cost = cost / (2 * m)                        \n",
    "    return cost\n",
    "\n"
   ]
  },
  {
   "cell_type": "code",
   "execution_count": 87,
   "id": "4d9d8568-9abe-4564-86ab-f8225e1bd39a",
   "metadata": {},
   "outputs": [
    {
     "name": "stdout",
     "output_type": "stream",
     "text": [
      "1.5578904880036537e-12\n"
     ]
    }
   ],
   "source": [
    "cost=compute_cost(x_train,y_train,w_init,b_init)\n",
    "print(cost)"
   ]
  },
  {
   "cell_type": "markdown",
   "id": "f087a2d8-e518-40c0-a32d-05a96aa2db3e",
   "metadata": {},
   "source": [
    "compute gradient with multiple variables :"
   ]
  },
  {
   "cell_type": "code",
   "execution_count": 88,
   "id": "fda597b4-10b7-44a1-b297-7f756db3a71e",
   "metadata": {},
   "outputs": [],
   "source": [
    "def compute_gradient(x,y,w,b):\n",
    "    m,n=x.shape\n",
    "    dj_dw=np.zeros((n,))\n",
    "    dj_db=0.\n",
    "    for i in range(m):\n",
    "        err=(np.dot(x[i],w)+b) -y[i]\n",
    "        for j in range(n):\n",
    "            dj_dw[j]+=err*x[i,j]\n",
    "        dj_db+=err\n",
    "    dj_dw/=m\n",
    "    dj_db/=m\n",
    "    dj_db=float(dj_db)\n",
    "    return dj_db,dj_dw"
   ]
  },
  {
   "cell_type": "code",
   "execution_count": 89,
   "id": "8cb8b4e2-940d-43be-b3f3-3c6c9db42346",
   "metadata": {},
   "outputs": [
    {
     "name": "stdout",
     "output_type": "stream",
     "text": [
      "-1.673925169143331e-06\n",
      "[-2.73e-03 -6.27e-06 -2.22e-06 -6.92e-05]\n"
     ]
    }
   ],
   "source": [
    "temp_dj_dw,temp_dj_db=compute_gradient(x_train,y_train,w_init,b_init)\n",
    "print(temp_dj_dw)\n",
    "print(temp_dj_db)"
   ]
  },
  {
   "cell_type": "markdown",
   "id": "25059aec-d300-4939-b1c1-f004801d6170",
   "metadata": {},
   "source": [
    "compute gradient descent \n"
   ]
  },
  {
   "cell_type": "code",
   "execution_count": 96,
   "id": "648d97ae-4771-43b3-b963-d9b6bb91e489",
   "metadata": {},
   "outputs": [],
   "source": [
    "def gradient_descent(X, y, w_in, b_in, cost_function, gradient_function, alpha, num_iters):\n",
    "    J_history = []\n",
    "    w = copy.deepcopy(w_in)\n",
    "    b = b_in\n",
    "    \n",
    "    for i in range(num_iters):\n",
    "        dj_db,dj_dw = gradient_function(X, y, w, b)\n",
    "        w = w - alpha * dj_dw  \n",
    "        b = b - alpha * dj_db\n",
    "        if i<100000:\n",
    "            J_history.append( cost_function(X, y, w, b))\n",
    "        if i% math.ceil(num_iters / 10) == 0:\n",
    "            print(f\"Iteration {i:4d}: Cost {J_history[-1]:8.2f}   \")\n",
    "        \n",
    "    return w, b, J_history"
   ]
  },
  {
   "cell_type": "code",
   "execution_count": 97,
   "id": "58bc77f1-58a3-480c-b5fd-8f70855a53d2",
   "metadata": {},
   "outputs": [
    {
     "name": "stdout",
     "output_type": "stream",
     "text": [
      "Iteration    0: Cost  2529.46   \n",
      "Iteration  100: Cost   695.99   \n",
      "Iteration  200: Cost   694.92   \n",
      "Iteration  300: Cost   693.86   \n",
      "Iteration  400: Cost   692.81   \n",
      "Iteration  500: Cost   691.77   \n",
      "Iteration  600: Cost   690.73   \n",
      "Iteration  700: Cost   689.71   \n",
      "Iteration  800: Cost   688.70   \n",
      "Iteration  900: Cost   687.69   \n",
      "prediction: 426.19, target value: 460\n",
      "prediction: 286.17, target value: 232\n",
      "prediction: 171.47, target value: 178\n"
     ]
    }
   ],
   "source": [
    "initial_w = np.zeros_like(w_init)\n",
    "initial_b = 0.\n",
    "iterations = 1000\n",
    "alpha = 5.0e-7\n",
    "w_final, b_final, J_hist = gradient_descent(x_train, y_train, initial_w, initial_b,compute_cost, compute_gradient,alpha, iterations)\n",
    "m,_=x_train.shape\n",
    "for i in range(m):\n",
    "    print(f\"prediction: {np.dot(x_train[i], w_final) + b_final:0.2f}, target value: {y_train[i]}\")"
   ]
  },
  {
   "cell_type": "code",
   "execution_count": 95,
   "id": "f8633872-d529-45f3-9bf9-5e6f1f2bac0d",
   "metadata": {},
   "outputs": [
    {
     "data": {
      "image/png": "[encoded data removed]",
      "text/plain": [
       "<Figure size 1200x400 with 2 Axes>"
      ]
     },
     "metadata": {},
     "output_type": "display_data"
    }
   ],
   "source": [
    "fig, (ax1, ax2) = plt.subplots(1, 2, constrained_layout=True, figsize=(12, 4))\n",
    "ax1.plot(J_hist)\n",
    "ax2.plot(100 + np.arange(len(J_hist[100:])), J_hist[100:])\n",
    "ax1.set_title(\"Cost vs. iteration\");  ax2.set_title(\"Cost vs. iteration (tail)\")\n",
    "ax1.set_ylabel('Cost')             ;  ax2.set_ylabel('Cost') \n",
    "ax1.set_xlabel('iteration step')   ;  ax2.set_xlabel('iteration step') \n",
    "plt.show()"
   ]
  },
  {
   "cell_type": "code",
   "execution_count": null,
   "id": "27e916cf-7d1e-495e-8b7e-7a164c6ea19b",
   "metadata": {},
   "outputs": [],
   "source": []
  },
  {
   "cell_type": "code",
   "execution_count": null,
   "id": "cabfaeb7-fcca-43cd-86e1-777b87dea432",
   "metadata": {},
   "outputs": [],
   "source": []
  }
 ],
 "metadata": {
  "kernelspec": {
   "display_name": "Python 3 (ipykernel)",
   "language": "python",
   "name": "python3"
  },
  "language_info": {
   "codemirror_mode": {
    "name": "ipython",
    "version": 3
   },
   "file_extension": ".py",
   "mimetype": "text/x-python",
   "name": "python",
   "nbconvert_exporter": "python",
   "pygments_lexer": "ipython3",
   "version": "3.13.4"
  }
 },
 "nbformat": 4,
 "nbformat_minor": 5
}
