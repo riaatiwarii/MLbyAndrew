{
 "cells": [
  {
   "cell_type": "markdown",
   "id": "e7d25328-c0c2-4514-a0cb-658e72729cf1",
   "metadata": {},
   "source": [
    "# Logistic regression \n",
    "After understanding the linear regression we are here to use a other approach called logistic regression where we get output in binary forms.\n",
    "in this we are also going to learn about *sigmoid* function , and we use this function"
   ]
  },
  {
   "cell_type": "markdown",
   "id": "5d799144-610e-41e4-8a38-931e54dc72b9",
   "metadata": {},
   "source": [
    "First we import our usefull libraries "
   ]
  },
  {
   "cell_type": "code",
   "execution_count": 10,
   "id": "bea3bdec-7214-4849-8e1d-cf7afe84e075",
   "metadata": {},
   "outputs": [
    {
     "ename": "ImportError",
     "evalue": "cannot import name 'sigmoid' from 'lab_utils_common' (C:\\Machine Learning by andrew\\lab_utils_common.py)",
     "output_type": "error",
     "traceback": [
      "\u001b[31m---------------------------------------------------------------------------\u001b[39m",
      "\u001b[31mImportError\u001b[39m                               Traceback (most recent call last)",
      "\u001b[36mCell\u001b[39m\u001b[36m \u001b[39m\u001b[32mIn[10]\u001b[39m\u001b[32m, line 4\u001b[39m\n\u001b[32m      2\u001b[39m get_ipython().run_line_magic(\u001b[33m'\u001b[39m\u001b[33mmatplotlib\u001b[39m\u001b[33m'\u001b[39m, \u001b[33m'\u001b[39m\u001b[33mwidget\u001b[39m\u001b[33m'\u001b[39m)\n\u001b[32m      3\u001b[39m \u001b[38;5;28;01mimport\u001b[39;00m\u001b[38;5;250m \u001b[39m\u001b[34;01mmatplotlib\u001b[39;00m\u001b[34;01m.\u001b[39;00m\u001b[34;01mpyplot\u001b[39;00m\u001b[38;5;250m \u001b[39m\u001b[38;5;28;01mas\u001b[39;00m\u001b[38;5;250m \u001b[39m\u001b[34;01mplt\u001b[39;00m\n\u001b[32m----> \u001b[39m\u001b[32m4\u001b[39m \u001b[38;5;28;01mfrom\u001b[39;00m\u001b[38;5;250m \u001b[39m\u001b[34;01mplt_one_addpt_onclick\u001b[39;00m\u001b[38;5;250m \u001b[39m\u001b[38;5;28;01mimport\u001b[39;00m plt_one_addpt_onclick\n\u001b[32m      5\u001b[39m \u001b[38;5;28;01mfrom\u001b[39;00m\u001b[38;5;250m \u001b[39m\u001b[34;01mlab_utils_common\u001b[39;00m\u001b[38;5;250m \u001b[39m\u001b[38;5;28;01mimport\u001b[39;00m draw_vthresh\n\u001b[32m      6\u001b[39m plt.style.use(\u001b[33m'\u001b[39m\u001b[33m./deeplearning.mplstyle\u001b[39m\u001b[33m'\u001b[39m)\n",
      "\u001b[36mFile \u001b[39m\u001b[32mC:\\Machine Learning by andrew\\plt_one_addpt_onclick.py:6\u001b[39m\n\u001b[32m      4\u001b[39m \u001b[38;5;28;01mfrom\u001b[39;00m\u001b[38;5;250m \u001b[39m\u001b[34;01mmatplotlib\u001b[39;00m\u001b[34;01m.\u001b[39;00m\u001b[34;01mwidgets\u001b[39;00m\u001b[38;5;250m \u001b[39m\u001b[38;5;28;01mimport\u001b[39;00m Button, CheckButtons\n\u001b[32m      5\u001b[39m \u001b[38;5;28;01mfrom\u001b[39;00m\u001b[38;5;250m \u001b[39m\u001b[34;01mmatplotlib\u001b[39;00m\u001b[34;01m.\u001b[39;00m\u001b[34;01mpatches\u001b[39;00m\u001b[38;5;250m \u001b[39m\u001b[38;5;28;01mimport\u001b[39;00m FancyArrowPatch\n\u001b[32m----> \u001b[39m\u001b[32m6\u001b[39m \u001b[38;5;28;01mfrom\u001b[39;00m\u001b[38;5;250m \u001b[39m\u001b[34;01mlab_utils_common\u001b[39;00m\u001b[38;5;250m \u001b[39m\u001b[38;5;28;01mimport\u001b[39;00m np, plt, dlblue, dlorange, sigmoid, dldarkred, gradient_descent\n\u001b[32m      8\u001b[39m \u001b[38;5;66;03m# for debug\u001b[39;00m\n\u001b[32m      9\u001b[39m \u001b[38;5;66;03m#output = Output() # sends hidden error messages to display when using widgets\u001b[39;00m\n\u001b[32m     10\u001b[39m \u001b[38;5;66;03m#display(output)\u001b[39;00m\n\u001b[32m     12\u001b[39m \u001b[38;5;28;01mclass\u001b[39;00m\u001b[38;5;250m \u001b[39m\u001b[34;01mplt_one_addpt_onclick\u001b[39;00m:\n",
      "\u001b[31mImportError\u001b[39m: cannot import name 'sigmoid' from 'lab_utils_common' (C:\\Machine Learning by andrew\\lab_utils_common.py)"
     ]
    }
   ],
   "source": [
    "import numpy as np \n",
    "%matplotlib widget\n",
    "import matplotlib.pyplot as plt\n",
    "from plt_one_addpt_onclick import plt_one_addpt_onclick\n",
    "from lab_utils_common import draw_vthresh\n",
    "plt.style.use('./deeplearning.mplstyle')"
   ]
  },
  {
   "cell_type": "markdown",
   "id": "b9f04bca-cd0c-47c7-8c4a-dd44bc0e7fc9",
   "metadata": {},
   "source": [
    "# Sigmoid or logistic function\n",
    "The sigmoid function is $g(z) = \\frac{1}{1 + e^{-z}}$.\n",
    "- In this case of a single example, $z$ is scalar.\n",
    "- In the case of multiple examples, $z$ may be a vector consisting of $m$ values, one for each example.\n",
    "Lets implement it "
   ]
  },
  {
   "cell_type": "markdown",
   "id": "1c0cb575-9a68-473e-9ccd-fed8d1edd889",
   "metadata": {},
   "source": [
    "here exp() is to calculate expotential function"
   ]
  },
  {
   "cell_type": "code",
   "execution_count": 2,
   "id": "60984e8f-c9ac-48b9-bef4-4335269b6d7b",
   "metadata": {},
   "outputs": [
    {
     "name": "stdout",
     "output_type": "stream",
     "text": [
      "[1 2 3]\n",
      "[ 2.71828183  7.3890561  20.08553692]\n",
      "1\n",
      "2.718281828459045\n"
     ]
    }
   ],
   "source": [
    "input_array=np.array([1,2,3])\n",
    "exp_array=np.exp(input_array)\n",
    "print(input_array)\n",
    "print(exp_array)\n",
    "input_val=1\n",
    "exp_val=np.exp(input_val)\n",
    "print(input_val)\n",
    "print(exp_val)"
   ]
  },
  {
   "cell_type": "markdown",
   "id": "1334d8da-90d4-47d2-8d58-e7038e12c9a6",
   "metadata": {},
   "source": [
    "Calculte **sigmoid** function"
   ]
  },
  {
   "cell_type": "code",
   "execution_count": 3,
   "id": "0eb06f2a-f2f4-47d6-b9b3-3c501cf9a8a3",
   "metadata": {},
   "outputs": [],
   "source": [
    "def sigmoid(z):\n",
    "    g=1/(1+np.exp(-z))\n",
    "    return g"
   ]
  },
  {
   "cell_type": "code",
   "execution_count": 5,
   "id": "f92bda8f-102e-42cc-9a6d-1ce94f56cdd1",
   "metadata": {},
   "outputs": [
    {
     "name": "stdout",
     "output_type": "stream",
     "text": [
      "[[-1.000e+01  4.540e-05]\n",
      " [-9.000e+00  1.234e-04]\n",
      " [-8.000e+00  3.354e-04]\n",
      " [-7.000e+00  9.111e-04]\n",
      " [-6.000e+00  2.473e-03]\n",
      " [-5.000e+00  6.693e-03]\n",
      " [-4.000e+00  1.799e-02]\n",
      " [-3.000e+00  4.743e-02]\n",
      " [-2.000e+00  1.192e-01]\n",
      " [-1.000e+00  2.689e-01]\n",
      " [ 0.000e+00  5.000e-01]\n",
      " [ 1.000e+00  7.311e-01]\n",
      " [ 2.000e+00  8.808e-01]\n",
      " [ 3.000e+00  9.526e-01]\n",
      " [ 4.000e+00  9.820e-01]\n",
      " [ 5.000e+00  9.933e-01]\n",
      " [ 6.000e+00  9.975e-01]\n",
      " [ 7.000e+00  9.991e-01]\n",
      " [ 8.000e+00  9.997e-01]\n",
      " [ 9.000e+00  9.999e-01]\n",
      " [ 1.000e+01  1.000e+00]]\n"
     ]
    }
   ],
   "source": [
    "z_tmp=np.arange(-10,11)\n",
    "y=sigmoid(z_tmp)\n",
    "\n",
    "np.set_printoptions(precision=3)\n",
    "print(np.c_[z_tmp,y])  #concatenating arrays column-wise"
   ]
  },
  {
   "cell_type": "code",
   "execution_count": 7,
   "id": "b54a7a27-4b0e-4922-9e0d-ef40626227f8",
   "metadata": {},
   "outputs": [
    {
     "ename": "NameError",
     "evalue": "name 'draw_vthresh' is not defined",
     "output_type": "error",
     "traceback": [
      "\u001b[31m---------------------------------------------------------------------------\u001b[39m",
      "\u001b[31mNameError\u001b[39m                                 Traceback (most recent call last)",
      "\u001b[36mCell\u001b[39m\u001b[36m \u001b[39m\u001b[32mIn[7]\u001b[39m\u001b[32m, line 6\u001b[39m\n\u001b[32m      4\u001b[39m ax.set_ylabel(\u001b[33m\"\u001b[39m\u001b[33msigmoid(z)\u001b[39m\u001b[33m\"\u001b[39m)\n\u001b[32m      5\u001b[39m ax.set_xlabel(\u001b[33m\"\u001b[39m\u001b[33mz\u001b[39m\u001b[33m\"\u001b[39m)\n\u001b[32m----> \u001b[39m\u001b[32m6\u001b[39m \u001b[43mdraw_vthresh\u001b[49m(ax,\u001b[32m0\u001b[39m)\n",
      "\u001b[31mNameError\u001b[39m: name 'draw_vthresh' is not defined"
     ]
    },
    {
     "data": {
      "application/vnd.jupyter.widget-view+json": {
       "model_id": "a2f5764e1e1443c4a9828c90734b12a2",
       "version_major": 2,
       "version_minor": 0
      },
      "image/png": "[encoded data removed]",
      "text/html": [
       "\n",
       "            <div style=\"display: inline-block;\">\n",
       "                <div class=\"jupyter-widgets widget-label\" style=\"text-align: center;\">\n",
       "                    Figure\n",
       "                </div>\n",
       "                <img src='data:image/png;base64,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' width=500.0/>\n",
       "            </div>\n",
       "        "
      ],
      "text/plain": [
       "Canvas(toolbar=Toolbar(toolitems=[('Home', 'Reset original view', 'home', 'home'), ('Back', 'Back to previous …"
      ]
     },
     "metadata": {},
     "output_type": "display_data"
    }
   ],
   "source": [
    "fig,ax=plt.subplots(1,1,figsize=(5,3))  #1 row and 1 column\n",
    "ax.plot(z_tmp,y,c='b')   # x_axis , y_axis , lineToBlueClr\n",
    "ax.set_title(\"Sigmoid function\")\n",
    "ax.set_ylabel(\"sigmoid(z)\")\n",
    "ax.set_xlabel(\"z\")\n",
    "draw_vthresh(ax,0)"
   ]
  },
  {
   "cell_type": "markdown",
   "id": "d2cded16-d329-49ad-b6aa-aa7d1baf042b",
   "metadata": {},
   "source": [
    "  \n",
    "Let's apply logistic regression to the categorical data example of tumor classification.  \n",
    "First, load the examples and initial values for the parameters.\n"
   ]
  },
  {
   "cell_type": "code",
   "execution_count": 8,
   "id": "efdbf88e-1c7a-454d-be7a-5583ff2e9fdf",
   "metadata": {},
   "outputs": [],
   "source": [
    "x_train = np.array([0., 1, 2, 3, 4, 5])\n",
    "y_train = np.array([0,  0, 0, 1, 1, 1])\n",
    "\n",
    "w_in = np.zeros((1))\n",
    "b_in = 0"
   ]
  },
  {
   "cell_type": "markdown",
   "id": "485c2865-09c8-4e0e-96bf-aa160f0cd07a",
   "metadata": {},
   "source": [
    "Try the following steps:\n",
    "- Click on 'Run Logistic Regression' to find the best logistic regression model for the given training data\n",
    "    - Note the resulting model fits the data quite well.\n",
    "    - Note, the orange line is '$z$' or $\\mathbf{w} \\cdot \\mathbf{x}^{(i)} + b$  above. It does not match the line in a linear regression model.\n",
    "Further improve these results by applying a *threshold*. \n",
    "- Tick the box on the 'Toggle 0.5 threshold' to show the predictions if a threshold is applied.\n",
    "    - These predictions look good. The predictions match the data\n",
    "    - Now, add further data points in the large tumor size range (near 10), and re-run logistic regression.\n",
    "    - unlike the linear regression model, this model continues to make correct predictions"
   ]
  },
  {
   "cell_type": "code",
   "execution_count": 9,
   "id": "cad882ec-f978-4d2f-b8e1-85b97dc0dbe0",
   "metadata": {},
   "outputs": [
    {
     "ename": "NameError",
     "evalue": "name 'plt_one_addpt_onclick' is not defined",
     "output_type": "error",
     "traceback": [
      "\u001b[31m---------------------------------------------------------------------------\u001b[39m",
      "\u001b[31mNameError\u001b[39m                                 Traceback (most recent call last)",
      "\u001b[36mCell\u001b[39m\u001b[36m \u001b[39m\u001b[32mIn[9]\u001b[39m\u001b[32m, line 2\u001b[39m\n\u001b[32m      1\u001b[39m plt.close(\u001b[33m'\u001b[39m\u001b[33mall\u001b[39m\u001b[33m'\u001b[39m) \n\u001b[32m----> \u001b[39m\u001b[32m2\u001b[39m addpt = \u001b[43mplt_one_addpt_onclick\u001b[49m( x_train,y_train, w_in, b_in, logistic=\u001b[38;5;28;01mTrue\u001b[39;00m)\n",
      "\u001b[31mNameError\u001b[39m: name 'plt_one_addpt_onclick' is not defined"
     ]
    }
   ],
   "source": [
    "plt.close('all') \n",
    "addpt = plt_one_addpt_onclick( x_train,y_train, w_in, b_in, logistic=True)"
   ]
  },
  {
   "cell_type": "code",
   "execution_count": null,
   "id": "4e218807-d05a-4651-81a2-fa47e9c8ff49",
   "metadata": {},
   "outputs": [],
   "source": []
  }
 ],
 "metadata": {
  "kernelspec": {
   "display_name": "Python 3 (ipykernel)",
   "language": "python",
   "name": "python3"
  },
  "language_info": {
   "codemirror_mode": {
    "name": "ipython",
    "version": 3
   },
   "file_extension": ".py",
   "mimetype": "text/x-python",
   "name": "python",
   "nbconvert_exporter": "python",
   "pygments_lexer": "ipython3",
   "version": "3.13.4"
  }
 },
 "nbformat": 4,
 "nbformat_minor": 5
}
